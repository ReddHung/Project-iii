{
 "cells": [
  {
   "cell_type": "code",
   "execution_count": null,
   "metadata": {
    "collapsed": true
   },
   "outputs": [],
   "source": [
    "#存入URL\n",
    "import requests\n",
    "from bs4 import BeautifulSoup as bs\n",
    "import string\n",
    "from math import ceil\n",
    "headers = {'cookie':'TRID_G=8711a259-e871-4895-bfc8-ef664f999722; SEID_G=bf7c90c9-369e-4672-9cb5-8c62da63d998; ASP.NET_SessionId=pos1kcp2zp0elm1vbhb34ujn; _ga=GA1.3.988170899.1438438756; WMX_Channel=,3,; __ltmwga=utmcsr=(direct)|utmcmd=(none); _gat_UA-22823074-5=1; CSCWORM_UNID=1440421905627627; _dc_gtm_UA-22823074-5=1; _dc_gtm_UA-34471860-1=1; _gat_UA-34471860-1=1; objID=; sto-id-%3Fv30%3FGroup-buy.housefun.com.tw%3A80=EFABBOKM; _ga=GA1.4.988170899.1438438756; __asc=5fa575a314f5fd6171a385af309; __auc=3ce783c214ee9a18edcba1d0ab5'}\n",
    "count = requests.get('http://buy.housefun.com.tw/ashx/buy/new/GetBuyListTabCaseCount.ashx?callback=angular.callbacks._c&RequestPackage=%7B%22Method%22:%22INQUIRE%22,%22Data%22:%7B%22SID%22:%2281106424%22%7D%7D',headers=headers)\n",
    "soup = bs(count.text)\n",
    "cases = ''.join(soup.text.split('\\\"')[25].split(','))\n",
    "page = int(ceil(float(cases)/10))\n",
    "\n",
    "f = open('housefun.txt','w')\n",
    "page_html = \"http://buy.housefun.com.tw/%E8%B2%B7%E5%B1%8B/%E5%8F%B0%E5%8C%97%E5%B8%82?hd_CityID=0000&hd_Purpose=K&hd_Sequence=SEQUP&hd_SearchGroup=Group01&hd_PM={0}&hd_Tab=1&hd_SID=81106424\"\n",
    "for pg in range(1,page+1):\n",
    "    res = requests.get(page_html.format(pg),headers=headers)\n",
    "    soup = bs(res.text)\n",
    "    for i in range(0,10):\n",
    "        f.write(\"http://buy.housefun.com.tw\" + soup.select('.m-list-obj')[i].select('a')[0]['href']+'\\n')"
   ]
  },
  {
   "cell_type": "code",
   "execution_count": 6,
   "metadata": {
    "collapsed": false
   },
   "outputs": [],
   "source": [
    "#存入各物件html\n",
    "import requests\n",
    "headers = {'cookie':'TRID_G=8711a259-e871-4895-bfc8-ef664f999722; SEID_G=bf7c90c9-369e-4672-9cb5-8c62da63d998; ASP.NET_SessionId=pos1kcp2zp0elm1vbhb34ujn; _ga=GA1.3.988170899.1438438756; WMX_Channel=,3,; __ltmwga=utmcsr=(direct)|utmcmd=(none); _gat_UA-22823074-5=1; CSCWORM_UNID=1440421905627627; _dc_gtm_UA-22823074-5=1; _dc_gtm_UA-34471860-1=1; _gat_UA-34471860-1=1; objID=; sto-id-%3Fv30%3FGroup-buy.housefun.com.tw%3A80=EFABBOKM; _ga=GA1.4.988170899.1438438756; __asc=5fa575a314f5fd6171a385af309; __auc=3ce783c214ee9a18edcba1d0ab5'}\n",
    "dir = 'housefun'\n",
    "f = open(\"housefun.txt\",\"r\")\n",
    "for line in f:\n",
    "    file_name = line.strip().split('/')[5].split('.')[0]\n",
    "    input_file = open(dir+'/'+file_name+'.txt','w')\n",
    "    \n",
    "    res = requests.get(line.strip(),headers=headers)\n",
    "    response = res.text.encode('utf8')\n",
    "    input_file.write(response)\n",
    "f.close()"
   ]
  },
  {
   "cell_type": "code",
   "execution_count": 62,
   "metadata": {
    "collapsed": false
   },
   "outputs": [
    {
     "name": "stdout",
     "output_type": "stream",
     "text": [
      "1281601,560,24.990214,121.54769,台北市文山區試院路,4,5,23,大樓,北\n",
      "1494973,6230,25.0529272,121.5198509,台北市大同區南京西路,9,13,9,大樓, \n",
      "1547272,3180,24.9863488,121.5890677,台北市文山區萬壽路,1,2,41,透天厝,北\n",
      "1731933,1966,25.0371611,121.5829359,台北市信義區福德街,2,4,42,公寓,西南\n",
      "1734766,1980,25.0482033,121.541357,台北市中山區長安東路二段,7,12,32,大樓,北\n",
      "1736705,1680,25.0606675468729,121.533783769312,台北市中山區民權東路二段,4,4,45,公寓,北\n",
      "512550,1050,25.0019899471606,121.557269821705,台北市文山區興德路,5,5,37,公寓, \n"
     ]
    }
   ],
   "source": [
    "import requests\n",
    "from bs4 import BeautifulSoup\n",
    "import re\n",
    "import glob\n",
    "import os\n",
    "from math import ceil\n",
    "\n",
    "    #ff = open('housefun_detail.txt','w')\n",
    "dir_path = '/Users/Derek/Project@iii/housefun/'\n",
    "for file_name in glob.glob(os.path.join(dir_path, \"*.txt\")):\n",
    "    f = open(file_name, \"r\")\n",
    "    soup = bs(f.read())\n",
    "    \n",
    "    pk = soup.select('#query-hf-id')[0]['value']\n",
    "    latitude = soup.select('#query-lat')[0]['value']\n",
    "    longitude = soup.select('#query-lng')[0]['value']\n",
    "    price = ''.join(soup.select('#total-amount')[0].text.split(','))\n",
    "    \n",
    "    string = ' '.join(soup.select('.info-sub')[0].text.split())\n",
    "    \n",
    "#格局\n",
    "    Housing_pattern_bedroom = re.search('([\\d]*)房',str(string.encode('utf8'))).group(1)\n",
    "    if re.search('([\\d]*)廳',str(string.encode('utf8'))):\n",
    "        Housing_pattern_hall = re.search('([\\d]*)廳',str(string.encode('utf8'))).group(1)\n",
    "    else:Housing_pattern_hall = ''\n",
    "    Housing_pattern_toilet = re.search('([\\d\\.]*)衛',str(string.encode('utf8'))).group(1)\n",
    "#總坪數\n",
    "    area_total = re.search('總坪數([\\d\\.]*) ',str(string.encode('utf8'))).group(1)\n",
    "#每坪單價    \n",
    "    if re.search('單價([\\d\\.]*)萬',str(string.encode('utf8'))):\n",
    "        price_per = re.search('單價([\\d\\.]*)萬',str(string.encode('utf8'))).group(1)  \n",
    "    else: price_per = ceil(float(price)/float(area_total))\n",
    "    \n",
    "    road = soup.select('.extra-info')[0].select('li')[0].text\n",
    "    \n",
    "    extra = ''\n",
    "    for ele in soup.select('.extra-info')[0].select('li'):\n",
    "        extra = extra + ' ' + ' '.join(ele.text.split())\n",
    "        \n",
    "#樓層/樓高\n",
    "    if re.search('樓層 ([\\d]*)',str(extra.encode('utf8'))):\n",
    "        floor = re.search('樓層 ([\\d]*)',str(extra.encode('utf8'))).group(1)\n",
    "    elif re.search('樓層 ([\\S]*)',str(extra.encode('utf8'))):\n",
    "        floor = re.search('樓層 ([\\S]*)',str(extra.encode('utf8'))).group(1)\n",
    "    else: floor = ''\n",
    "        \n",
    "    if re.search('/ ([\\d]*)',str(extra.encode('utf8'))):\n",
    "        building_height = re.search('/ ([\\d]*)',str(extra.encode('utf8'))).group(1)\n",
    "    else: building_height = ''\n",
    "#屋齡\n",
    "    if re.search('屋齡 ([\\d]*)',str(extra.encode('utf8'))):\n",
    "        age = re.search('屋齡 ([\\d]*)',str(extra.encode('utf8'))).group(1)\n",
    "    else: age = ''\n",
    "#類型\n",
    "    if re.search('公寓',str(extra.encode('utf8'))):\n",
    "        building_type = unicode('公寓','utf8')\n",
    "    elif re.search('大樓',str(extra.encode('utf8'))):\n",
    "        building_type = unicode('大樓','utf8')\n",
    "    elif re.search('透天厝',str(extra.encode('utf8'))):\n",
    "        building_type = unicode('透天厝','utf8')\n",
    "    else: building_type =''\n",
    "#方位\n",
    "    if re.search('朝向([\\S]*) ',str(extra.encode('utf8'))): \n",
    "        orientation = unicode(re.search('朝向([\\S]*) ',str(extra.encode('utf8'))).group(1),'utf8')\n",
    "    else: orientation = ' '\n",
    "    \n",
    "    print pk+','+price+','+latitude+','+longitude+','+road+','+floor+','+building_height+','+age+','+building_type+','+orientation\n"
   ]
  },
  {
   "cell_type": "code",
   "execution_count": null,
   "metadata": {
    "collapsed": true
   },
   "outputs": [],
   "source": []
  }
 ],
 "metadata": {
  "kernelspec": {
   "display_name": "Python 2",
   "language": "python",
   "name": "python2"
  },
  "language_info": {
   "codemirror_mode": {
    "name": "ipython",
    "version": 2
   },
   "file_extension": ".py",
   "mimetype": "text/x-python",
   "name": "python",
   "nbconvert_exporter": "python",
   "pygments_lexer": "ipython2",
   "version": "2.7.10"
  }
 },
 "nbformat": 4,
 "nbformat_minor": 0
}
