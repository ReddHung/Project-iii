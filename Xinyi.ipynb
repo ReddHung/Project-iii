{
 "cells": [
  {
   "cell_type": "code",
   "execution_count": 12,
   "metadata": {
    "collapsed": false
   },
   "outputs": [
    {
     "name": "stdout",
     "output_type": "stream",
     "text": [
      "百坪帝景雙橡園\n",
      "安家京漾日商最愛\n",
      "雙橡園朝南美豪宅\n",
      "時尚精品美裝阿曼\n",
      "安家京漾４米２\n",
      "明亮唯美興安高樓\n",
      "新生金華設籍電梯\n",
      "建成花園套房首選\n",
      "歐風庭院馥邑一樓\n",
      "安和世紀花廣名邸\n"
     ]
    }
   ],
   "source": [
    "import requests\n",
    "from bs4 import BeautifulSoup as bs\n",
    "headers = {'Cookie':'__uid=wKgIZFW8kMVkh2flEhi5Ag==; SYL_ID=55bcca03c55bc; SINYI_guestID=2f3ce7a2bb8dfce99d0ecbdcc03d0205; _ga=GA1.3.21566056.1438421196; _ga=GA1.4.21566056.1438421196; __uwait=0'}\n",
    "res = requests.get('http://buy.sinyi.com.tw/list/Taipei-city/index.html',headers = headers)\n",
    "res.encoding = 'utf-8'\n",
    "soup = bs(res.text)\n",
    "for ele in soup.select('#search_result_list'):\n",
    "    for count in range(0,10):\n",
    "        print ele.select('.item_title')[count].text"
   ]
  },
  {
   "cell_type": "markdown",
   "metadata": {
    "collapsed": true
   },
   "source": []
  }
 ],
 "metadata": {
  "kernelspec": {
   "display_name": "Python 2",
   "language": "python",
   "name": "python2"
  },
  "language_info": {
   "codemirror_mode": {
    "name": "ipython",
    "version": 2
   },
   "file_extension": ".py",
   "mimetype": "text/x-python",
   "name": "python",
   "nbconvert_exporter": "python",
   "pygments_lexer": "ipython2",
   "version": "2.7.10"
  }
 },
 "nbformat": 4,
 "nbformat_minor": 0
}
