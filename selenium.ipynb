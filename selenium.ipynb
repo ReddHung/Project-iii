{
 "cells": [
  {
   "cell_type": "code",
   "execution_count": 38,
   "metadata": {
    "collapsed": false
   },
   "outputs": [
    {
     "ename": "IndentationError",
     "evalue": "unexpected indent (<ipython-input-38-46500a8a8533>, line 8)",
     "output_type": "error",
     "traceback": [
      "\u001b[0;36m  File \u001b[0;32m\"<ipython-input-38-46500a8a8533>\"\u001b[0;36m, line \u001b[0;32m8\u001b[0m\n\u001b[0;31m    for ele in soup.select('.m-list-obj'):\u001b[0m\n\u001b[0m    ^\u001b[0m\n\u001b[0;31mIndentationError\u001b[0m\u001b[0;31m:\u001b[0m unexpected indent\n"
     ]
    }
   ],
   "source": [
    "import requests\n",
    "from bs4 import BeautifulSoup as bs\n",
    "headers = {'Cookie':'TRID_G=8711a259-e871-4895-bfc8-ef664f999722; SEID_G=bf7c90c9-369e-4672-9cb5-8c62da63d998; ASP.NET_SessionId=pos1kcp2zp0elm1vbhb34ujn; _dc_gtm_UA-22823074-10=1; _dc_gtm_UA-34471860-1=1; __ltmwga=utmcsr=google|utmcmd=organic; _ga=GA1.3.988170899.1438438756; _gat_UA-22823074-10=1; CSCWORM_UNID=1440067536296297; _dc_gtm_UA-22823074-5=1; WMX_Channel=,3,; _gat_UA-34471860-1=1; objID=80484675; _gat_UA-22823074-5=1; __asc=9ecaa59514f4aafe0280fb56b54; __auc=3ce783c214ee9a18edcba1d0ab5; _ga=GA1.4.988170899.1438438756; sto-id-%3Fv30%3FGroup-buy.housefun.com.tw%3A80=GEABBOKM'}\n",
    "res = requests.get('http://buy.housefun.com.tw/%E8%B2%B7%E5%B1%8B/%E5%8F%B0%E5%8C%97%E5%B8%82?hd_CityID=0000&hd_Purpose=K&hd_Sequence=SEQUP&hd_SearchGroup=Group01&hd_PM={0}&hd_Tab=1&hd_SID=80485048'.format(pg),headers=headers)\n",
    "soup = bs(res.text)\n",
    "cases = ''.join(soup.select('#search_result_count div')[0].text.split(','))\n",
    "page = int(ceil(float(cases)/30))\n",
    "    for ele in soup.select('.m-list-obj'):\n",
    "        print ele.select('a')[0]['href']"
   ]
  },
  {
   "cell_type": "code",
   "execution_count": 24,
   "metadata": {
    "collapsed": false
   },
   "outputs": [
    {
     "name": "stdout",
     "output_type": "stream",
     "text": [
      "7,518\n"
     ]
    }
   ],
   "source": [
    "import requests\n",
    "from bs4 import BeautifulSoup as bs\n",
    "from math import ceil\n",
    "headers = {'Cookie':'TRID_G=8711a259-e871-4895-bfc8-ef664f999722; SEID_G=bf7c90c9-369e-4672-9cb5-8c62da63d998; ASP.NET_SessionId=pos1kcp2zp0elm1vbhb34ujn; _ga=GA1.3.988170899.1438438756; CSCWORM_UNID=1440067536296297; WMX_Channel=,3,; __ltmwga=utmcsr=(direct)|utmcmd=(none); objID=; sto-id-%3Fv30%3FGroup-buy.housefun.com.tw%3A80=GEABBOKM; _dc_gtm_UA-22823074-5=1; _ga=GA1.4.988170899.1438438756; _dc_gtm_UA-34471860-1=1; __asc=fbbd0b1a14f4afce5bb266e9a52; __auc=3ce783c214ee9a18edcba1d0ab5'}\n",
    "res = requests.get('http://buy.housefun.com.tw/ashx/buy/new/GetBuyListTabCaseCount.ashx?callback=angular.callbacks._0&RequestPackage=%7B%22Method%22:%22INQUIRE%22,%22Data%22:%7B%22SID%22:%2280614048%22%7D%7D',headers=headers)\n",
    "soup = bs(res.text)\n",
    "\n",
    "\n",
    "#for i in range(0, len(soup.text.split('\\\"'))):\n",
    "#    print i, soup.text.split('\\\"')[i]\n",
    "\n",
    "\n",
    "print soup.text.split('\\\"')[25]\n",
    "\n",
    "#for ele in soup.select('#Tab0'):\n",
    "#    print ele\n",
    "\n",
    "#cases = ''.join(soup.select('.m-list-ctrl a i')[0].text.split(','))\n",
    "#page = int(ceil(float(cases)/10))\n",
    "\n",
    "#print cases"
   ]
  },
  {
   "cell_type": "code",
   "execution_count": 40,
   "metadata": {
    "collapsed": false
   },
   "outputs": [
    {
     "ename": "SyntaxError",
     "evalue": "invalid syntax (<ipython-input-40-0f05334c63f0>, line 8)",
     "output_type": "error",
     "traceback": [
      "\u001b[0;36m  File \u001b[0;32m\"<ipython-input-40-0f05334c63f0>\"\u001b[0;36m, line \u001b[0;32m8\u001b[0m\n\u001b[0;31m    driver = new SafariDriver()\u001b[0m\n\u001b[0m                            ^\u001b[0m\n\u001b[0;31mSyntaxError\u001b[0m\u001b[0;31m:\u001b[0m invalid syntax\n"
     ]
    }
   ],
   "source": [
    "from selenium.webdriver.common.by import By\n",
    "import selenium.webdriver as webdriver\n",
    "import time\n",
    "from bs4 import BeautifulSoup as bs \n",
    "\n",
    "#print dir(webdriver)\n",
    "#driver = webdriver.Chrome(\"/Users/Derek/Downloads/chromedriver\")\n",
    "driver = new SafariDriver()\n",
    "driver.get('http://buy.housefun.com.tw/%E8%B2%B7%E5%B1%8B/%E5%8F%B0%E5%8C%97%E5%B8%82?hd_CityID=0000&hd_Purpose=K&hd_Sequence=SEQUP&hd_SearchGroup=Group01&hd_PM=1&hd_Tab=1&hd_SID=80485048')\n",
    "\n",
    "time.sleep(2)\n",
    "#print driver.page_source\n",
    "soup = bs(driver.page_source)\n",
    "print soup.select('#Tab0 a i')[0].text\n",
    "\n",
    "driver.close()\n",
    "\n",
    "\n",
    "\n",
    "\n",
    "\n"
   ]
  },
  {
   "cell_type": "markdown",
   "metadata": {},
   "source": [
    "textbook"
   ]
  },
  {
   "cell_type": "code",
   "execution_count": null,
   "metadata": {
    "collapsed": true
   },
   "outputs": [],
   "source": []
  }
 ],
 "metadata": {
  "kernelspec": {
   "display_name": "Python 2",
   "language": "python",
   "name": "python2"
  },
  "language_info": {
   "codemirror_mode": {
    "name": "ipython",
    "version": 2
   },
   "file_extension": ".py",
   "mimetype": "text/x-python",
   "name": "python",
   "nbconvert_exporter": "python",
   "pygments_lexer": "ipython2",
   "version": "2.7.10"
  }
 },
 "nbformat": 4,
 "nbformat_minor": 0
}
