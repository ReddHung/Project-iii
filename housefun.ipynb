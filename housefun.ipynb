{
 "cells": [
  {
   "cell_type": "code",
   "execution_count": 11,
   "metadata": {
    "collapsed": false
   },
   "outputs": [
    {
     "ename": "KeyboardInterrupt",
     "evalue": "",
     "output_type": "error",
     "traceback": [
      "\u001b[0;31m---------------------------------------------------------------------------\u001b[0m",
      "\u001b[0;31mKeyboardInterrupt\u001b[0m                         Traceback (most recent call last)",
      "\u001b[0;32m<ipython-input-11-da3f3fc1ee29>\u001b[0m in \u001b[0;36m<module>\u001b[0;34m()\u001b[0m\n\u001b[1;32m     13\u001b[0m \u001b[0mpage_html\u001b[0m \u001b[0;34m=\u001b[0m \u001b[0;34m\"http://buy.housefun.com.tw/%E8%B2%B7%E5%B1%8B/%E6%96%B0%E5%8C%97%E5%B8%82?hd_CityID=0001&hd_Purpose=K&hd_Sequence=SEQUP&hd_SearchGroup=Group01&hd_PM={0}&hd_Tab=1&hd_SID=82963236\"\u001b[0m\u001b[0;34m\u001b[0m\u001b[0m\n\u001b[1;32m     14\u001b[0m \u001b[0;32mfor\u001b[0m \u001b[0mpg\u001b[0m \u001b[0;32min\u001b[0m \u001b[0mrange\u001b[0m\u001b[0;34m(\u001b[0m\u001b[0;36m1\u001b[0m\u001b[0;34m,\u001b[0m\u001b[0mpage\u001b[0m\u001b[0;34m+\u001b[0m\u001b[0;36m1\u001b[0m\u001b[0;34m)\u001b[0m\u001b[0;34m:\u001b[0m\u001b[0;34m\u001b[0m\u001b[0m\n\u001b[0;32m---> 15\u001b[0;31m     \u001b[0mres\u001b[0m \u001b[0;34m=\u001b[0m \u001b[0mrequests\u001b[0m\u001b[0;34m.\u001b[0m\u001b[0mget\u001b[0m\u001b[0;34m(\u001b[0m\u001b[0mpage_html\u001b[0m\u001b[0;34m.\u001b[0m\u001b[0mformat\u001b[0m\u001b[0;34m(\u001b[0m\u001b[0mpg\u001b[0m\u001b[0;34m)\u001b[0m\u001b[0;34m,\u001b[0m\u001b[0mheaders\u001b[0m\u001b[0;34m=\u001b[0m\u001b[0mheaders\u001b[0m\u001b[0;34m)\u001b[0m\u001b[0;34m\u001b[0m\u001b[0m\n\u001b[0m\u001b[1;32m     16\u001b[0m     \u001b[0msoup\u001b[0m \u001b[0;34m=\u001b[0m \u001b[0mbs\u001b[0m\u001b[0;34m(\u001b[0m\u001b[0mres\u001b[0m\u001b[0;34m.\u001b[0m\u001b[0mtext\u001b[0m\u001b[0;34m)\u001b[0m\u001b[0;34m\u001b[0m\u001b[0m\n\u001b[1;32m     17\u001b[0m     \u001b[0;32mfor\u001b[0m \u001b[0mi\u001b[0m \u001b[0;32min\u001b[0m \u001b[0mrange\u001b[0m\u001b[0;34m(\u001b[0m\u001b[0;36m0\u001b[0m\u001b[0;34m,\u001b[0m\u001b[0;36m10\u001b[0m\u001b[0;34m)\u001b[0m\u001b[0;34m:\u001b[0m\u001b[0;34m\u001b[0m\u001b[0m\n",
      "\u001b[0;32m/Users/Derek/anaconda/lib/python2.7/site-packages/requests/api.pyc\u001b[0m in \u001b[0;36mget\u001b[0;34m(url, params, **kwargs)\u001b[0m\n\u001b[1;32m     67\u001b[0m \u001b[0;34m\u001b[0m\u001b[0m\n\u001b[1;32m     68\u001b[0m     \u001b[0mkwargs\u001b[0m\u001b[0;34m.\u001b[0m\u001b[0msetdefault\u001b[0m\u001b[0;34m(\u001b[0m\u001b[0;34m'allow_redirects'\u001b[0m\u001b[0;34m,\u001b[0m \u001b[0mTrue\u001b[0m\u001b[0;34m)\u001b[0m\u001b[0;34m\u001b[0m\u001b[0m\n\u001b[0;32m---> 69\u001b[0;31m     \u001b[0;32mreturn\u001b[0m \u001b[0mrequest\u001b[0m\u001b[0;34m(\u001b[0m\u001b[0;34m'get'\u001b[0m\u001b[0;34m,\u001b[0m \u001b[0murl\u001b[0m\u001b[0;34m,\u001b[0m \u001b[0mparams\u001b[0m\u001b[0;34m=\u001b[0m\u001b[0mparams\u001b[0m\u001b[0;34m,\u001b[0m \u001b[0;34m**\u001b[0m\u001b[0mkwargs\u001b[0m\u001b[0;34m)\u001b[0m\u001b[0;34m\u001b[0m\u001b[0m\n\u001b[0m\u001b[1;32m     70\u001b[0m \u001b[0;34m\u001b[0m\u001b[0m\n\u001b[1;32m     71\u001b[0m \u001b[0;34m\u001b[0m\u001b[0m\n",
      "\u001b[0;32m/Users/Derek/anaconda/lib/python2.7/site-packages/requests/api.pyc\u001b[0m in \u001b[0;36mrequest\u001b[0;34m(method, url, **kwargs)\u001b[0m\n\u001b[1;32m     48\u001b[0m \u001b[0;34m\u001b[0m\u001b[0m\n\u001b[1;32m     49\u001b[0m     \u001b[0msession\u001b[0m \u001b[0;34m=\u001b[0m \u001b[0msessions\u001b[0m\u001b[0;34m.\u001b[0m\u001b[0mSession\u001b[0m\u001b[0;34m(\u001b[0m\u001b[0;34m)\u001b[0m\u001b[0;34m\u001b[0m\u001b[0m\n\u001b[0;32m---> 50\u001b[0;31m     \u001b[0mresponse\u001b[0m \u001b[0;34m=\u001b[0m \u001b[0msession\u001b[0m\u001b[0;34m.\u001b[0m\u001b[0mrequest\u001b[0m\u001b[0;34m(\u001b[0m\u001b[0mmethod\u001b[0m\u001b[0;34m=\u001b[0m\u001b[0mmethod\u001b[0m\u001b[0;34m,\u001b[0m \u001b[0murl\u001b[0m\u001b[0;34m=\u001b[0m\u001b[0murl\u001b[0m\u001b[0;34m,\u001b[0m \u001b[0;34m**\u001b[0m\u001b[0mkwargs\u001b[0m\u001b[0;34m)\u001b[0m\u001b[0;34m\u001b[0m\u001b[0m\n\u001b[0m\u001b[1;32m     51\u001b[0m     \u001b[0;31m# By explicitly closing the session, we avoid leaving sockets open which\u001b[0m\u001b[0;34m\u001b[0m\u001b[0;34m\u001b[0m\u001b[0m\n\u001b[1;32m     52\u001b[0m     \u001b[0;31m# can trigger a ResourceWarning in some cases, and look like a memory leak\u001b[0m\u001b[0;34m\u001b[0m\u001b[0;34m\u001b[0m\u001b[0m\n",
      "\u001b[0;32m/Users/Derek/anaconda/lib/python2.7/site-packages/requests/sessions.pyc\u001b[0m in \u001b[0;36mrequest\u001b[0;34m(self, method, url, params, data, headers, cookies, files, auth, timeout, allow_redirects, proxies, hooks, stream, verify, cert, json)\u001b[0m\n\u001b[1;32m    463\u001b[0m         }\n\u001b[1;32m    464\u001b[0m         \u001b[0msend_kwargs\u001b[0m\u001b[0;34m.\u001b[0m\u001b[0mupdate\u001b[0m\u001b[0;34m(\u001b[0m\u001b[0msettings\u001b[0m\u001b[0;34m)\u001b[0m\u001b[0;34m\u001b[0m\u001b[0m\n\u001b[0;32m--> 465\u001b[0;31m         \u001b[0mresp\u001b[0m \u001b[0;34m=\u001b[0m \u001b[0mself\u001b[0m\u001b[0;34m.\u001b[0m\u001b[0msend\u001b[0m\u001b[0;34m(\u001b[0m\u001b[0mprep\u001b[0m\u001b[0;34m,\u001b[0m \u001b[0;34m**\u001b[0m\u001b[0msend_kwargs\u001b[0m\u001b[0;34m)\u001b[0m\u001b[0;34m\u001b[0m\u001b[0m\n\u001b[0m\u001b[1;32m    466\u001b[0m \u001b[0;34m\u001b[0m\u001b[0m\n\u001b[1;32m    467\u001b[0m         \u001b[0;32mreturn\u001b[0m \u001b[0mresp\u001b[0m\u001b[0;34m\u001b[0m\u001b[0m\n",
      "\u001b[0;32m/Users/Derek/anaconda/lib/python2.7/site-packages/requests/sessions.pyc\u001b[0m in \u001b[0;36msend\u001b[0;34m(self, request, **kwargs)\u001b[0m\n\u001b[1;32m    571\u001b[0m \u001b[0;34m\u001b[0m\u001b[0m\n\u001b[1;32m    572\u001b[0m         \u001b[0;31m# Send the request\u001b[0m\u001b[0;34m\u001b[0m\u001b[0;34m\u001b[0m\u001b[0m\n\u001b[0;32m--> 573\u001b[0;31m         \u001b[0mr\u001b[0m \u001b[0;34m=\u001b[0m \u001b[0madapter\u001b[0m\u001b[0;34m.\u001b[0m\u001b[0msend\u001b[0m\u001b[0;34m(\u001b[0m\u001b[0mrequest\u001b[0m\u001b[0;34m,\u001b[0m \u001b[0;34m**\u001b[0m\u001b[0mkwargs\u001b[0m\u001b[0;34m)\u001b[0m\u001b[0;34m\u001b[0m\u001b[0m\n\u001b[0m\u001b[1;32m    574\u001b[0m \u001b[0;34m\u001b[0m\u001b[0m\n\u001b[1;32m    575\u001b[0m         \u001b[0;31m# Total elapsed time of the request (approximately)\u001b[0m\u001b[0;34m\u001b[0m\u001b[0;34m\u001b[0m\u001b[0m\n",
      "\u001b[0;32m/Users/Derek/anaconda/lib/python2.7/site-packages/requests/adapters.pyc\u001b[0m in \u001b[0;36msend\u001b[0;34m(self, request, stream, timeout, verify, cert, proxies)\u001b[0m\n\u001b[1;32m    368\u001b[0m                     \u001b[0mdecode_content\u001b[0m\u001b[0;34m=\u001b[0m\u001b[0mFalse\u001b[0m\u001b[0;34m,\u001b[0m\u001b[0;34m\u001b[0m\u001b[0m\n\u001b[1;32m    369\u001b[0m                     \u001b[0mretries\u001b[0m\u001b[0;34m=\u001b[0m\u001b[0mself\u001b[0m\u001b[0;34m.\u001b[0m\u001b[0mmax_retries\u001b[0m\u001b[0;34m,\u001b[0m\u001b[0;34m\u001b[0m\u001b[0m\n\u001b[0;32m--> 370\u001b[0;31m                     \u001b[0mtimeout\u001b[0m\u001b[0;34m=\u001b[0m\u001b[0mtimeout\u001b[0m\u001b[0;34m\u001b[0m\u001b[0m\n\u001b[0m\u001b[1;32m    371\u001b[0m                 )\n\u001b[1;32m    372\u001b[0m \u001b[0;34m\u001b[0m\u001b[0m\n",
      "\u001b[0;32m/Users/Derek/anaconda/lib/python2.7/site-packages/requests/packages/urllib3/connectionpool.pyc\u001b[0m in \u001b[0;36murlopen\u001b[0;34m(self, method, url, body, headers, retries, redirect, assert_same_host, timeout, pool_timeout, release_conn, **response_kw)\u001b[0m\n\u001b[1;32m    542\u001b[0m             httplib_response = self._make_request(conn, method, url,\n\u001b[1;32m    543\u001b[0m                                                   \u001b[0mtimeout\u001b[0m\u001b[0;34m=\u001b[0m\u001b[0mtimeout_obj\u001b[0m\u001b[0;34m,\u001b[0m\u001b[0;34m\u001b[0m\u001b[0m\n\u001b[0;32m--> 544\u001b[0;31m                                                   body=body, headers=headers)\n\u001b[0m\u001b[1;32m    545\u001b[0m \u001b[0;34m\u001b[0m\u001b[0m\n\u001b[1;32m    546\u001b[0m             \u001b[0;31m# If we're going to release the connection in ``finally:``, then\u001b[0m\u001b[0;34m\u001b[0m\u001b[0;34m\u001b[0m\u001b[0m\n",
      "\u001b[0;32m/Users/Derek/anaconda/lib/python2.7/site-packages/requests/packages/urllib3/connectionpool.pyc\u001b[0m in \u001b[0;36m_make_request\u001b[0;34m(self, conn, method, url, timeout, **httplib_request_kw)\u001b[0m\n\u001b[1;32m    370\u001b[0m         \u001b[0;32mtry\u001b[0m\u001b[0;34m:\u001b[0m\u001b[0;34m\u001b[0m\u001b[0m\n\u001b[1;32m    371\u001b[0m             \u001b[0;32mtry\u001b[0m\u001b[0;34m:\u001b[0m  \u001b[0;31m# Python 2.7, use buffering of HTTP responses\u001b[0m\u001b[0;34m\u001b[0m\u001b[0m\n\u001b[0;32m--> 372\u001b[0;31m                 \u001b[0mhttplib_response\u001b[0m \u001b[0;34m=\u001b[0m \u001b[0mconn\u001b[0m\u001b[0;34m.\u001b[0m\u001b[0mgetresponse\u001b[0m\u001b[0;34m(\u001b[0m\u001b[0mbuffering\u001b[0m\u001b[0;34m=\u001b[0m\u001b[0mTrue\u001b[0m\u001b[0;34m)\u001b[0m\u001b[0;34m\u001b[0m\u001b[0m\n\u001b[0m\u001b[1;32m    373\u001b[0m             \u001b[0;32mexcept\u001b[0m \u001b[0mTypeError\u001b[0m\u001b[0;34m:\u001b[0m  \u001b[0;31m# Python 2.6 and older\u001b[0m\u001b[0;34m\u001b[0m\u001b[0m\n\u001b[1;32m    374\u001b[0m                 \u001b[0mhttplib_response\u001b[0m \u001b[0;34m=\u001b[0m \u001b[0mconn\u001b[0m\u001b[0;34m.\u001b[0m\u001b[0mgetresponse\u001b[0m\u001b[0;34m(\u001b[0m\u001b[0;34m)\u001b[0m\u001b[0;34m\u001b[0m\u001b[0m\n",
      "\u001b[0;32m/Users/Derek/anaconda/lib/python2.7/httplib.pyc\u001b[0m in \u001b[0;36mgetresponse\u001b[0;34m(self, buffering)\u001b[0m\n\u001b[1;32m   1130\u001b[0m \u001b[0;34m\u001b[0m\u001b[0m\n\u001b[1;32m   1131\u001b[0m         \u001b[0;32mtry\u001b[0m\u001b[0;34m:\u001b[0m\u001b[0;34m\u001b[0m\u001b[0m\n\u001b[0;32m-> 1132\u001b[0;31m             \u001b[0mresponse\u001b[0m\u001b[0;34m.\u001b[0m\u001b[0mbegin\u001b[0m\u001b[0;34m(\u001b[0m\u001b[0;34m)\u001b[0m\u001b[0;34m\u001b[0m\u001b[0m\n\u001b[0m\u001b[1;32m   1133\u001b[0m             \u001b[0;32massert\u001b[0m \u001b[0mresponse\u001b[0m\u001b[0;34m.\u001b[0m\u001b[0mwill_close\u001b[0m \u001b[0;34m!=\u001b[0m \u001b[0m_UNKNOWN\u001b[0m\u001b[0;34m\u001b[0m\u001b[0m\n\u001b[1;32m   1134\u001b[0m             \u001b[0mself\u001b[0m\u001b[0;34m.\u001b[0m\u001b[0m__state\u001b[0m \u001b[0;34m=\u001b[0m \u001b[0m_CS_IDLE\u001b[0m\u001b[0;34m\u001b[0m\u001b[0m\n",
      "\u001b[0;32m/Users/Derek/anaconda/lib/python2.7/httplib.pyc\u001b[0m in \u001b[0;36mbegin\u001b[0;34m(self)\u001b[0m\n\u001b[1;32m    451\u001b[0m         \u001b[0;31m# read until we get a non-100 response\u001b[0m\u001b[0;34m\u001b[0m\u001b[0;34m\u001b[0m\u001b[0m\n\u001b[1;32m    452\u001b[0m         \u001b[0;32mwhile\u001b[0m \u001b[0mTrue\u001b[0m\u001b[0;34m:\u001b[0m\u001b[0;34m\u001b[0m\u001b[0m\n\u001b[0;32m--> 453\u001b[0;31m             \u001b[0mversion\u001b[0m\u001b[0;34m,\u001b[0m \u001b[0mstatus\u001b[0m\u001b[0;34m,\u001b[0m \u001b[0mreason\u001b[0m \u001b[0;34m=\u001b[0m \u001b[0mself\u001b[0m\u001b[0;34m.\u001b[0m\u001b[0m_read_status\u001b[0m\u001b[0;34m(\u001b[0m\u001b[0;34m)\u001b[0m\u001b[0;34m\u001b[0m\u001b[0m\n\u001b[0m\u001b[1;32m    454\u001b[0m             \u001b[0;32mif\u001b[0m \u001b[0mstatus\u001b[0m \u001b[0;34m!=\u001b[0m \u001b[0mCONTINUE\u001b[0m\u001b[0;34m:\u001b[0m\u001b[0;34m\u001b[0m\u001b[0m\n\u001b[1;32m    455\u001b[0m                 \u001b[0;32mbreak\u001b[0m\u001b[0;34m\u001b[0m\u001b[0m\n",
      "\u001b[0;32m/Users/Derek/anaconda/lib/python2.7/httplib.pyc\u001b[0m in \u001b[0;36m_read_status\u001b[0;34m(self)\u001b[0m\n\u001b[1;32m    407\u001b[0m     \u001b[0;32mdef\u001b[0m \u001b[0m_read_status\u001b[0m\u001b[0;34m(\u001b[0m\u001b[0mself\u001b[0m\u001b[0;34m)\u001b[0m\u001b[0;34m:\u001b[0m\u001b[0;34m\u001b[0m\u001b[0m\n\u001b[1;32m    408\u001b[0m         \u001b[0;31m# Initialize with Simple-Response defaults\u001b[0m\u001b[0;34m\u001b[0m\u001b[0;34m\u001b[0m\u001b[0m\n\u001b[0;32m--> 409\u001b[0;31m         \u001b[0mline\u001b[0m \u001b[0;34m=\u001b[0m \u001b[0mself\u001b[0m\u001b[0;34m.\u001b[0m\u001b[0mfp\u001b[0m\u001b[0;34m.\u001b[0m\u001b[0mreadline\u001b[0m\u001b[0;34m(\u001b[0m\u001b[0m_MAXLINE\u001b[0m \u001b[0;34m+\u001b[0m \u001b[0;36m1\u001b[0m\u001b[0;34m)\u001b[0m\u001b[0;34m\u001b[0m\u001b[0m\n\u001b[0m\u001b[1;32m    410\u001b[0m         \u001b[0;32mif\u001b[0m \u001b[0mlen\u001b[0m\u001b[0;34m(\u001b[0m\u001b[0mline\u001b[0m\u001b[0;34m)\u001b[0m \u001b[0;34m>\u001b[0m \u001b[0m_MAXLINE\u001b[0m\u001b[0;34m:\u001b[0m\u001b[0;34m\u001b[0m\u001b[0m\n\u001b[1;32m    411\u001b[0m             \u001b[0;32mraise\u001b[0m \u001b[0mLineTooLong\u001b[0m\u001b[0;34m(\u001b[0m\u001b[0;34m\"header line\"\u001b[0m\u001b[0;34m)\u001b[0m\u001b[0;34m\u001b[0m\u001b[0m\n",
      "\u001b[0;32m/Users/Derek/anaconda/lib/python2.7/socket.pyc\u001b[0m in \u001b[0;36mreadline\u001b[0;34m(self, size)\u001b[0m\n\u001b[1;32m    478\u001b[0m             \u001b[0;32mwhile\u001b[0m \u001b[0mTrue\u001b[0m\u001b[0;34m:\u001b[0m\u001b[0;34m\u001b[0m\u001b[0m\n\u001b[1;32m    479\u001b[0m                 \u001b[0;32mtry\u001b[0m\u001b[0;34m:\u001b[0m\u001b[0;34m\u001b[0m\u001b[0m\n\u001b[0;32m--> 480\u001b[0;31m                     \u001b[0mdata\u001b[0m \u001b[0;34m=\u001b[0m \u001b[0mself\u001b[0m\u001b[0;34m.\u001b[0m\u001b[0m_sock\u001b[0m\u001b[0;34m.\u001b[0m\u001b[0mrecv\u001b[0m\u001b[0;34m(\u001b[0m\u001b[0mself\u001b[0m\u001b[0;34m.\u001b[0m\u001b[0m_rbufsize\u001b[0m\u001b[0;34m)\u001b[0m\u001b[0;34m\u001b[0m\u001b[0m\n\u001b[0m\u001b[1;32m    481\u001b[0m                 \u001b[0;32mexcept\u001b[0m \u001b[0merror\u001b[0m\u001b[0;34m,\u001b[0m \u001b[0me\u001b[0m\u001b[0;34m:\u001b[0m\u001b[0;34m\u001b[0m\u001b[0m\n\u001b[1;32m    482\u001b[0m                     \u001b[0;32mif\u001b[0m \u001b[0me\u001b[0m\u001b[0;34m.\u001b[0m\u001b[0margs\u001b[0m\u001b[0;34m[\u001b[0m\u001b[0;36m0\u001b[0m\u001b[0;34m]\u001b[0m \u001b[0;34m==\u001b[0m \u001b[0mEINTR\u001b[0m\u001b[0;34m:\u001b[0m\u001b[0;34m\u001b[0m\u001b[0m\n",
      "\u001b[0;31mKeyboardInterrupt\u001b[0m: "
     ]
    }
   ],
   "source": [
    "#存入URL\n",
    "import requests\n",
    "from bs4 import BeautifulSoup as bs\n",
    "import string\n",
    "from math import ceil\n",
    "headers = {'cookie':'TRID_G=8711a259-e871-4895-bfc8-ef664f999722; SEID_G=bf7c90c9-369e-4672-9cb5-8c62da63d998; ASP.NET_SessionId=pos1kcp2zp0elm1vbhb34ujn; _ga=GA1.3.988170899.1438438756; WMX_Channel=,3,; __ltmwga=utmcsr=(direct)|utmcmd=(none); _gat_UA-22823074-5=1; CSCWORM_UNID=1440421905627627; _dc_gtm_UA-22823074-5=1; _dc_gtm_UA-34471860-1=1; _gat_UA-34471860-1=1; objID=; sto-id-%3Fv30%3FGroup-buy.housefun.com.tw%3A80=EFABBOKM; _ga=GA1.4.988170899.1438438756; __asc=5fa575a314f5fd6171a385af309; __auc=3ce783c214ee9a18edcba1d0ab5'}\n",
    "count = requests.get('http://buy.housefun.com.tw/ashx/buy/new/GetBuyListTabCaseCount.ashx?callback=angular.callbacks._0&RequestPackage=%7B%22Method%22:%22INQUIRE%22,%22Data%22:%7B%22SID%22:%2282944189%22%7D%7D',headers=headers)\n",
    "soup = bs(count.text)\n",
    "cases = ''.join(soup.text.split('\\\"')[25].split(','))\n",
    "page = int(ceil(float(cases)/10))\n",
    "\n",
    "f = open('housefunXinbei_URL.txt','w')\n",
    "page_html = \"http://buy.housefun.com.tw/%E8%B2%B7%E5%B1%8B/%E6%96%B0%E5%8C%97%E5%B8%82?hd_CityID=0001&hd_Purpose=K&hd_Sequence=SEQUP&hd_SearchGroup=Group01&hd_PM={0}&hd_Tab=1&hd_SID=82963236\"\n",
    "for pg in range(1,page+1):\n",
    "    res = requests.get(page_html.format(pg),headers=headers)\n",
    "    soup = bs(res.text)\n",
    "    for i in range(0,10):\n",
    "        f.write(\"http://buy.housefun.com.tw\" + soup.select('.m-list-obj')[i].select('a')[0]['href']+'\\n')\n",
    "f.close()"
   ]
  },
  {
   "cell_type": "code",
   "execution_count": 21,
   "metadata": {
    "collapsed": false
   },
   "outputs": [],
   "source": [
    "#存入各物件html\n",
    "import requests\n",
    "headers = {'cookie':'TRID_G=8711a259-e871-4895-bfc8-ef664f999722; SEID_G=bf7c90c9-369e-4672-9cb5-8c62da63d998; ASP.NET_SessionId=pos1kcp2zp0elm1vbhb34ujn; _ga=GA1.3.988170899.1438438756; WMX_Channel=,3,; __ltmwga=utmcsr=(direct)|utmcmd=(none); _gat_UA-22823074-5=1; CSCWORM_UNID=1440421905627627; _dc_gtm_UA-22823074-5=1; _dc_gtm_UA-34471860-1=1; _gat_UA-34471860-1=1; objID=; sto-id-%3Fv30%3FGroup-buy.housefun.com.tw%3A80=EFABBOKM; _ga=GA1.4.988170899.1438438756; __asc=5fa575a314f5fd6171a385af309; __auc=3ce783c214ee9a18edcba1d0ab5'}\n",
    "dir = 'housefunXinbei'\n",
    "f = open(\"housefunXinbei_URL.txt\",\"r\")\n",
    "for line in f:\n",
    "    file_name = line.strip().split('/')[5].split('.')[0]\n",
    "    input_file = open(dir+'/'+file_name+'.txt','w')\n",
    "    \n",
    "    res = requests.get(line.strip(),headers=headers)\n",
    "    response = res.text.encode('utf8')\n",
    "    input_file.write(response)\n",
    "f.close()"
   ]
  },
  {
   "cell_type": "code",
   "execution_count": 59,
   "metadata": {
    "collapsed": false
   },
   "outputs": [],
   "source": [
    "import requests\n",
    "from bs4 import BeautifulSoup as bs\n",
    "import re\n",
    "import glob\n",
    "import os\n",
    "import sys\n",
    "from math import ceil\n",
    "reload(sys)\n",
    "sys.setdefaultencoding('utf8')\n",
    "\n",
    "pk = ''\n",
    "road = ''\n",
    "latitude = ''\n",
    "longitude = ''\n",
    "price = ''\n",
    "price_per =''\n",
    "Housing_pattern_bedroom = ''\n",
    "Housing_pattern_hall = ''\n",
    "Housing_pattern_toilet = ''\n",
    "age = ''\n",
    "floor = ''\n",
    "building_height = ''\n",
    "building_type = ''\n",
    "elevator = ''\n",
    "orientation = ''\n",
    "area_total = ''\n",
    "main_building = ''\n",
    "establishes_with_whole = ''\n",
    "parking_space = ''\n",
    "community = ''\n",
    "building_structure = ''\n",
    "\n",
    "ff = open('housefunxinbei_detail.txt','w')\n",
    "dir_path = \"housefunXinbei\"\n",
    "for file_name in glob.glob(os.path.join(os.getcwd(), dir_path, \"*.txt\")):\n",
    "    f = open(file_name, \"r\")\n",
    "    soup = bs(f.read())\n",
    "    try:\n",
    "        \n",
    "        pk = soup.select('#query-hf-id')[0]['value']\n",
    "        latitude = soup.select('#query-lat')[0]['value']\n",
    "        longitude = soup.select('#query-lng')[0]['value']\n",
    "        price = ''.join(soup.select('#total-amount')[0].text.split(','))\n",
    "    \n",
    "        string = ' '.join(soup.select('.info-sub')[0].text.split())\n",
    "    \n",
    "#格局\n",
    "        Housing_pattern_bedroom = re.search('([\\d]*)房',str(string.encode('utf8'))).group(1)\n",
    "        if re.search('([\\d]*)廳',str(string.encode('utf8'))):\n",
    "            Housing_pattern_hall = re.search('([\\d]*)廳',str(string.encode('utf8'))).group(1)\n",
    "        else:Housing_pattern_hall = ''\n",
    "        Housing_pattern_toilet = re.search('([\\d\\.]*)衛',str(string.encode('utf8'))).group(1)\n",
    "#總坪數\n",
    "\n",
    "        area_total = re.search('總坪數([\\d\\.]*) ',str(string.encode('utf8'))).group(1)\n",
    "\n",
    "#每坪單價    \n",
    "        if re.search('單價([\\d\\.]*)萬',str(string.encode('utf8'))):\n",
    "            price_per = re.search('單價([\\d\\.]*)萬',str(string.encode('utf8'))).group(1)\n",
    "        #elif  re.search('總坪數0',str(string.encode('utf8')))   \n",
    "        else: price_per = str(round(float(price)/float(area_total),2))\n",
    "#路名    \n",
    "        road = soup.select('.extra-info')[0].select('li')[0].text.encode('utf8')\n",
    "    \n",
    "        extra = ''\n",
    "        for ele in soup.select('.extra-info')[0].select('li'):\n",
    "            extra = extra + ' ' + ' '.join(ele.text.split())\n",
    "        \n",
    "#樓層/樓高\n",
    "        if re.search('樓層 ([\\d]*)',str(extra.encode('utf8'))):\n",
    "            floor = re.search('樓層 ([\\d]*)',str(extra.encode('utf8'))).group(1)\n",
    "        elif re.search('樓層 ([\\S]*)',str(extra.encode('utf8'))):\n",
    "            floor = re.search('樓層 ([\\S]*)',str(extra.encode('utf8'))).group(1)\n",
    "        else: floor = ''\n",
    "        \n",
    "        if re.search('/ ([\\d]*)',str(extra.encode('utf8'))):\n",
    "            building_height = re.search('/ ([\\d]*)',str(extra.encode('utf8'))).group(1)\n",
    "        else: building_height = ''\n",
    "#屋齡\n",
    "        if re.search('屋齡 ([\\d]*)',str(extra.encode('utf8'))):\n",
    "            age = re.search('屋齡 ([\\d]*)',str(extra.encode('utf8'))).group(1)\n",
    "        else: age = ''\n",
    "#類型\n",
    "        if re.search('公寓',str(extra.encode('utf8'))):\n",
    "            building_type = unicode('公寓','utf8')\n",
    "        elif re.search('大樓',str(extra.encode('utf8'))):\n",
    "            building_type = unicode('大樓','utf8')\n",
    "        elif re.search('透天厝',str(extra.encode('utf8'))):\n",
    "            building_type = unicode('透天厝','utf8')\n",
    "        else: building_type =''\n",
    "#方位\n",
    "        if re.search('朝向([\\S]*) ',str(extra.encode('utf8'))): \n",
    "            orientation = unicode(re.search('朝向([\\S]*) ',str(extra.encode('utf8'))).group(1),'utf8')\n",
    "        else: orientation = ' '\n",
    "\n",
    "        ff.write(pk+','+latitude+','+longitude+','+price+','+price_per+','+Housing_pattern_bedroom \\\n",
    "            +','+Housing_pattern_hall+','+Housing_pattern_toilet+','+age+','+floor+','+building_height \\\n",
    "            +','+building_type+','+elevator+','+orientation+','+area_total+','+main_building \\\n",
    "            +','+establishes_with_whole+','+parking_space+','+community+','+building_structure)\n",
    "        ff.write('\\n')\n",
    "        f.close()\n",
    "    except:\n",
    "        print pk\n",
    "ff.close()"
   ]
  },
  {
   "cell_type": "code",
   "execution_count": 58,
   "metadata": {
    "collapsed": false
   },
   "outputs": [],
   "source": [
    "#計算URL\n",
    "line_num = 0\n",
    "f = open(\"housefunex_detail.txt\",\"r\")\n",
    "for line in f.readlines():\n",
    "    line_num = line_num + 1\n",
    "print line_num\n",
    "f.close()"
   ]
  },
  {
   "cell_type": "code",
   "execution_count": 69,
   "metadata": {
    "collapsed": true
   },
   "outputs": [],
   "source": [
    "#將重複的物件讀出\n",
    "case_dic = {}\n",
    "f = open('housefun_URL.txt','r')\n",
    "re = open('re_3.txt','w')\n",
    "for line in f.readlines():\n",
    "    rec = line.strip()\n",
    "    caseno = rec.split('/')[5]\n",
    "    if caseno not in case_dic:\n",
    "        case_dic[caseno] = 1\n",
    "    else:\n",
    "        re.write(caseno+'\\n')\n",
    "re.close()\n",
    "f.close()"
   ]
  },
  {
   "cell_type": "code",
   "execution_count": 7,
   "metadata": {
    "collapsed": false
   },
   "outputs": [
    {
     "name": "stdout",
     "output_type": "stream",
     "text": [
      "housefunXinbei_URL\n",
      "原始資料筆數 :  16409\n",
      "不重覆資料筆數 :  14478\n",
      "重覆資料筆數 :  1931\n"
     ]
    }
   ],
   "source": [
    "#檢查資料是否重複(並產生新檔)\n",
    "\n",
    "file_name = ['housefunXinbei_URL'] #原始檔案\n",
    "file_path = '/Users/Derek/Project@iii/{}.txt' #檔案路徑,使用{}代表將數個檔案包覆\n",
    "\n",
    "\n",
    "for File in file_name:  \n",
    "    dic = []\n",
    "    num = 0\n",
    "    for line in open(file_path.format(File), 'r').readlines():\n",
    "        #計算資料筆數\n",
    "        num = num + 1\n",
    "        \n",
    "        if line not in dic:\n",
    "            dic.append(line)\n",
    "    file = open(file_path.format(File + '1'), 'w')\n",
    "    for url in dic:\n",
    "        file.write(url)\n",
    "    file.close()\n",
    "    \n",
    "    print File\n",
    "    print '原始資料筆數 : ' , num\n",
    "    print '不重覆資料筆數 : ' , len(dic)\n",
    "    print '重覆資料筆數 : ' , num - len(dic)"
   ]
  },
  {
   "cell_type": "code",
   "execution_count": null,
   "metadata": {
    "collapsed": true
   },
   "outputs": [],
   "source": []
  }
 ],
 "metadata": {
  "kernelspec": {
   "display_name": "Python 2",
   "language": "python",
   "name": "python2"
  },
  "language_info": {
   "codemirror_mode": {
    "name": "ipython",
    "version": 2
   },
   "file_extension": ".py",
   "mimetype": "text/x-python",
   "name": "python",
   "nbconvert_exporter": "python",
   "pygments_lexer": "ipython2",
   "version": "2.7.10"
  }
 },
 "nbformat": 4,
 "nbformat_minor": 0
}
