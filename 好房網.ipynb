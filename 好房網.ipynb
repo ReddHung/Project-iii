{
 "cells": [
  {
   "cell_type": "code",
   "execution_count": 70,
   "metadata": {
    "collapsed": false
   },
   "outputs": [],
   "source": [
    "#存入URL\n",
    "import requests\n",
    "from bs4 import BeautifulSoup as bs\n",
    "import string\n",
    "from math import ceil\n",
    "headers = {'cookie':'TRID_G=8711a259-e871-4895-bfc8-ef664f999722; SEID_G=bf7c90c9-369e-4672-9cb5-8c62da63d998; ASP.NET_SessionId=pos1kcp2zp0elm1vbhb34ujn; _ga=GA1.3.988170899.1438438756; WMX_Channel=,3,; __ltmwga=utmcsr=(direct)|utmcmd=(none); _gat_UA-22823074-5=1; CSCWORM_UNID=1440421905627627; _dc_gtm_UA-22823074-5=1; _dc_gtm_UA-34471860-1=1; _gat_UA-34471860-1=1; objID=; sto-id-%3Fv30%3FGroup-buy.housefun.com.tw%3A80=EFABBOKM; _ga=GA1.4.988170899.1438438756; __asc=5fa575a314f5fd6171a385af309; __auc=3ce783c214ee9a18edcba1d0ab5'}\n",
    "count = requests.get('http://buy.housefun.com.tw/ashx/buy/new/GetBuyListTabCaseCount.ashx?callback=angular.callbacks._c&RequestPackage=%7B%22Method%22:%22INQUIRE%22,%22Data%22:%7B%22SID%22:%2281106424%22%7D%7D',headers=headers)\n",
    "soup = bs(count.text)\n",
    "cases = ''.join(soup.text.split('\\\"')[25].split(','))\n",
    "page = int(ceil(float(cases)/10))\n",
    "\n",
    "f = open('housefun.txt','w')\n",
    "page_html = \"http://buy.housefun.com.tw/%E8%B2%B7%E5%B1%8B/%E5%8F%B0%E5%8C%97%E5%B8%82?hd_CityID=0000&hd_Purpose=K&hd_Sequence=SEQUP&hd_SearchGroup=Group01&hd_PM={0}&hd_Tab=1&hd_SID=81106424\"\n",
    "for pg in range(1,page+1):\n",
    "    res = requests.get(page_html.format(pg),headers=headers)\n",
    "    soup = bs(res.text)\n",
    "    for ele in soup.select('.m-list-obj'):\n",
    "        f.write(\"http://buy.housefun.com.tw\" + ele.select('a')[0]['href'] + '\\n')\n",
    "f.close()"
   ]
  },
  {
   "cell_type": "code",
   "execution_count": 219,
   "metadata": {
    "collapsed": false
   },
   "outputs": [],
   "source": [
    "#存入各物件的HTML\n",
    "import requests\n",
    "\n",
    "f = open(\"housefun.txt\",\"r\")\n",
    "for line in f:\n",
    "    file_name = line.strip().split('/')[5].split('.')[0]\n",
    "    input_file = open(file_name+'.txt','w')\n",
    "    \n",
    "    res = requests.get(line.strip(),headers=headers)\n",
    "    response = res.text.encode('utf8')\n",
    "    input_file.write(response)\n",
    "f.close()"
   ]
  },
  {
   "cell_type": "code",
   "execution_count": 286,
   "metadata": {
    "collapsed": false
   },
   "outputs": [],
   "source": [
    "#存入屬性\n",
    "housefun = open('housefun.txt','r')\n",
    "housefun_detail = open('housefun_detail2.txt','w')\n",
    "for line in housefun.readlines():\n",
    "    pagelink = line.strip()\n",
    "    requests_detail = requests.get(pagelink,headers=headers)\n",
    "    soup = bs(requests_detail.text)\n",
    "    for ele in soup.select('.info-sub'):\n",
    "        for i in range(0,3):\n",
    "            housefun_detail.write(ele.select('li')[i].text.strip().encode('utf8')+',')\n",
    "        for ele in soup.select('.extra-info'):\n",
    "            for eles in ele.select('span'):\n",
    "                housefun_detail.write(eles.text.encode('utf8')+',')\n",
    "    housefun_detail.write('\\n')\n",
    "housefun_detail.close()\n",
    "housefun.close()"
   ]
  },
  {
   "cell_type": "code",
   "execution_count": 71,
   "metadata": {
    "collapsed": false
   },
   "outputs": [
    {
     "name": "stdout",
     "output_type": "stream",
     "text": [
      "8250\n"
     ]
    }
   ],
   "source": [
    "line_num = 0\n",
    "f = open(\"housefun.txt\",\"r\")\n",
    "for line in f.readlines():\n",
    "    line_num = line_num + 1\n",
    "print line_num\n",
    "f.close()"
   ]
  },
  {
   "cell_type": "code",
   "execution_count": 254,
   "metadata": {
    "collapsed": false
   },
   "outputs": [
    {
     "name": "stdout",
     "output_type": "stream",
     "text": [
      "---http://buy.housefun.com.tw/buy/house/1736705\n",
      "---http://buy.housefun.com.tw/buy/house/1797948\n",
      "---http://buy.housefun.com.tw/buy/house/1738429\n",
      "---http://buy.housefun.com.tw/buy/house/1757198\n",
      "---http://buy.housefun.com.tw/buy/house/1605336\n",
      "---http://buy.housefun.com.tw/buy/house/1734766\n",
      "---http://buy.housefun.com.tw/buy/house/1681234\n",
      "---http://buy.housefun.com.tw/buy/house/1572045\n",
      "---http://buy.housefun.com.tw/buy/house/1734094\n",
      "---http://buy.housefun.com.tw/buy/house/1782752\n",
      "http://buy.housefun.com.tw/buy/house/1736705\n",
      "http://buy.housefun.com.tw/buy/house/1797948\n",
      "http://buy.housefun.com.tw/buy/house/1738429\n",
      "http://buy.housefun.com.tw/buy/house/1757198\n",
      "http://buy.housefun.com.tw/buy/house/1605336\n",
      "http://buy.housefun.com.tw/buy/house/1734766\n",
      "http://buy.housefun.com.tw/buy/house/1681234\n",
      "http://buy.housefun.com.tw/buy/house/1572045\n",
      "http://buy.housefun.com.tw/buy/house/1734094\n",
      "http://buy.housefun.com.tw/buy/house/1782752\n",
      "http://buy.housefun.com.tw/buy/house/{{listDetail.HFID}}\n"
     ]
    }
   ],
   "source": [
    "import requests\n",
    "from bs4 import BeautifulSoup as bs\n",
    "headers = {'cookie':'TRID_G=8711a259-e871-4895-bfc8-ef664f999722; SEID_G=bf7c90c9-369e-4672-9cb5-8c62da63d998; ASP.NET_SessionId=pos1kcp2zp0elm1vbhb34ujn; _ga=GA1.3.988170899.1438438756; WMX_Channel=,3,; __ltmwga=utmcsr=(direct)|utmcmd=(none); _gat_UA-22823074-5=1; CSCWORM_UNID=1440421905627627; _dc_gtm_UA-22823074-5=1; _dc_gtm_UA-34471860-1=1; _gat_UA-34471860-1=1; objID=; sto-id-%3Fv30%3FGroup-buy.housefun.com.tw%3A80=EFABBOKM; _ga=GA1.4.988170899.1438438756; __asc=5fa575a314f5fd6171a385af309; __auc=3ce783c214ee9a18edcba1d0ab5'}\n",
    "res = requests.get('http://buy.housefun.com.tw/買屋/台北市?hd_CityID=0000&hd_Purpose=K&hd_Sequence=SEQUP&hd_SearchGroup=Group01&hd_PM=1&hd_Tab=1&hd_SID=81386135',headers=headers)\n",
    "soup = bs(res.text)\n",
    "for i in range(0,10):\n",
    "    print \"http://buy.housefun.com.tw\" + soup.select('.m-list-obj')[i].select('a')[0]['href']\n",
    "    "
   ]
  },
  {
   "cell_type": "code",
   "execution_count": null,
   "metadata": {
    "collapsed": true
   },
   "outputs": [],
   "source": []
  }
 ],
 "metadata": {
  "kernelspec": {
   "display_name": "Python 2",
   "language": "python",
   "name": "python2"
  },
  "language_info": {
   "codemirror_mode": {
    "name": "ipython",
    "version": 2
   },
   "file_extension": ".py",
   "mimetype": "text/x-python",
   "name": "python",
   "nbconvert_exporter": "python",
   "pygments_lexer": "ipython2",
   "version": "2.7.10"
  }
 },
 "nbformat": 4,
 "nbformat_minor": 0
}
