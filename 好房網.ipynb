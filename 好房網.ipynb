{
 "cells": [
  {
   "cell_type": "code",
   "execution_count": 70,
   "metadata": {
    "collapsed": false
   },
   "outputs": [],
   "source": [
    "import requests\n",
    "from bs4 import BeautifulSoup as bs\n",
    "import string\n",
    "from math import ceil\n",
    "headers = {'cookie':'TRID_G=8711a259-e871-4895-bfc8-ef664f999722; SEID_G=bf7c90c9-369e-4672-9cb5-8c62da63d998; ASP.NET_SessionId=pos1kcp2zp0elm1vbhb34ujn; _ga=GA1.3.988170899.1438438756; WMX_Channel=,3,; __ltmwga=utmcsr=(direct)|utmcmd=(none); _gat_UA-22823074-5=1; CSCWORM_UNID=1440421905627627; _dc_gtm_UA-22823074-5=1; _dc_gtm_UA-34471860-1=1; _gat_UA-34471860-1=1; objID=; sto-id-%3Fv30%3FGroup-buy.housefun.com.tw%3A80=EFABBOKM; _ga=GA1.4.988170899.1438438756; __asc=5fa575a314f5fd6171a385af309; __auc=3ce783c214ee9a18edcba1d0ab5'}\n",
    "count = requests.get('http://buy.housefun.com.tw/ashx/buy/new/GetBuyListTabCaseCount.ashx?callback=angular.callbacks._c&RequestPackage=%7B%22Method%22:%22INQUIRE%22,%22Data%22:%7B%22SID%22:%2281106424%22%7D%7D',headers=headers)\n",
    "soup = bs(count.text)\n",
    "cases = ''.join(soup.text.split('\\\"')[25].split(','))\n",
    "page = int(ceil(float(cases)/10))\n",
    "\n",
    "f = open('housefun.txt','w')\n",
    "page_html = \"http://buy.housefun.com.tw/%E8%B2%B7%E5%B1%8B/%E5%8F%B0%E5%8C%97%E5%B8%82?hd_CityID=0000&hd_Purpose=K&hd_Sequence=SEQUP&hd_SearchGroup=Group01&hd_PM={0}&hd_Tab=1&hd_SID=81106424\"\n",
    "for pg in range(1,page+1):\n",
    "    res = requests.get(page_html.format(pg),headers=headers)\n",
    "    soup = bs(res.text)\n",
    "    for ele in soup.select('.m-list-obj'):\n",
    "        f.write(\"http://buy.housefun.com.tw\" + ele.select('a')[0]['href'] + '\\n')\n",
    "f.close()"
   ]
  },
  {
   "cell_type": "code",
   "execution_count": 71,
   "metadata": {
    "collapsed": false
   },
   "outputs": [
    {
     "name": "stdout",
     "output_type": "stream",
     "text": [
      "8250\n"
     ]
    }
   ],
   "source": [
    "line_num = 0\n",
    "f = open(\"housefun.txt\",\"r\")\n",
    "for line in f.readlines():\n",
    "    line_num = line_num + 1\n",
    "print line_num\n",
    "f.close()"
   ]
  },
  {
   "cell_type": "code",
   "execution_count": 141,
   "metadata": {
    "collapsed": false
   },
   "outputs": [
    {
     "name": "stdout",
     "output_type": "stream",
     "text": [
      "台北市中山區四平街\n",
      "樓層 2 ~ 2 / 14\n",
      "屋齡 32.2 年\n",
      "住宅\n",
      "大樓/第三之二種住宅區及第三種住宅區\n",
      "朝向北\n",
      "鋼筋混凝土(RC)\n"
     ]
    }
   ],
   "source": [
    "resd = requests.get('http://buy.housefun.com.tw/buy/house/1605336',headers=headers)\n",
    "soup = bs(resd.text)\n",
    "li = soup.findAll('li')\n",
    "for row in li:\n",
    "    span = row.find('span')\n",
    "    if span is not None:\n",
    "        if len(span)>0:\n",
    "            print ''.join(row.select('span')[0].text)"
   ]
  },
  {
   "cell_type": "code",
   "execution_count": 169,
   "metadata": {
    "collapsed": false
   },
   "outputs": [
    {
     "ename": "UnicodeEncodeError",
     "evalue": "'ascii' codec can't encode characters in position 0-8: ordinal not in range(128)",
     "output_type": "error",
     "traceback": [
      "\u001b[0;31m---------------------------------------------------------------------------\u001b[0m",
      "\u001b[0;31mUnicodeEncodeError\u001b[0m                        Traceback (most recent call last)",
      "\u001b[0;32m<ipython-input-169-d0aa4667e8c0>\u001b[0m in \u001b[0;36m<module>\u001b[0;34m()\u001b[0m\n\u001b[1;32m     16\u001b[0m         \u001b[0;32mif\u001b[0m \u001b[0mspan\u001b[0m \u001b[0;32mis\u001b[0m \u001b[0;32mnot\u001b[0m \u001b[0mNone\u001b[0m\u001b[0;34m:\u001b[0m\u001b[0;34m\u001b[0m\u001b[0m\n\u001b[1;32m     17\u001b[0m             \u001b[0;32mif\u001b[0m \u001b[0mlen\u001b[0m\u001b[0;34m(\u001b[0m\u001b[0mspan\u001b[0m\u001b[0;34m)\u001b[0m\u001b[0;34m>\u001b[0m\u001b[0;36m0\u001b[0m\u001b[0;34m:\u001b[0m\u001b[0;34m\u001b[0m\u001b[0m\n\u001b[0;32m---> 18\u001b[0;31m                 \u001b[0mhousefun_detail\u001b[0m\u001b[0;34m.\u001b[0m\u001b[0mwrite\u001b[0m\u001b[0;34m(\u001b[0m\u001b[0mrow\u001b[0m\u001b[0;34m.\u001b[0m\u001b[0mselect\u001b[0m\u001b[0;34m(\u001b[0m\u001b[0;34m'span'\u001b[0m\u001b[0;34m)\u001b[0m\u001b[0;34m[\u001b[0m\u001b[0;36m0\u001b[0m\u001b[0;34m]\u001b[0m\u001b[0;34m.\u001b[0m\u001b[0mtext\u001b[0m\u001b[0;34m)\u001b[0m\u001b[0;34m+\u001b[0m\u001b[0;34m'\\n'\u001b[0m\u001b[0;34m\u001b[0m\u001b[0m\n\u001b[0m\u001b[1;32m     19\u001b[0m     \u001b[0mhousefun_detail\u001b[0m\u001b[0;34m.\u001b[0m\u001b[0mclose\u001b[0m\u001b[0;34m(\u001b[0m\u001b[0;34m)\u001b[0m\u001b[0;34m\u001b[0m\u001b[0m\n\u001b[1;32m     20\u001b[0m \u001b[0mhousefun\u001b[0m\u001b[0;34m.\u001b[0m\u001b[0mclose\u001b[0m\u001b[0;34m(\u001b[0m\u001b[0;34m)\u001b[0m\u001b[0;34m\u001b[0m\u001b[0m\n",
      "\u001b[0;31mUnicodeEncodeError\u001b[0m: 'ascii' codec can't encode characters in position 0-8: ordinal not in range(128)"
     ]
    }
   ],
   "source": [
    "#from tkinter import *\n",
    "#import traceback\n",
    "#from tkinter.scrolledtext import ScrolledText\n",
    "\n",
    "#CODEC = 'utf8'\n",
    "\n",
    "housefun = open('housefun.txt','r')\n",
    "for line in housefun.readlines():\n",
    "    pagelink = line.strip()\n",
    "    requests_detail = requests.get(pagelink,headers=headers)\n",
    "    soup = bs(requests_detail.text)\n",
    "    housefun_detail = open('housefun_detail.txt','w')\n",
    "    li = soup.findAll('li')\n",
    "    for row in li:\n",
    "        span = row.find('span')\n",
    "        if span is not None:\n",
    "            if len(span)>0:\n",
    "                housefun_detail.write(row.select('span')[0].text)\n",
    "    housefun_detail.close()\n",
    "housefun.close()"
   ]
  },
  {
   "cell_type": "code",
   "execution_count": 164,
   "metadata": {
    "collapsed": false
   },
   "outputs": [
    {
     "name": "stdout",
     "output_type": "stream",
     "text": [
      "台北市中山區四平街\n",
      "樓層 2 ~ 2 / 14\n",
      "屋齡 32.2 年\n",
      "住宅\n",
      "大樓/第三之二種住宅區及第三種住宅區\n",
      "朝向北\n",
      "鋼筋混凝土(RC)\n",
      "台北市中山區民權東路二段\n",
      "樓層 4 ~ 4 / 4\n",
      "屋齡 45.4 年\n",
      "住宅\n",
      "公寓\n",
      "邊間\n",
      "朝向北\n",
      "鋼筋混凝土(RC)\n",
      "室內：29.27坪(含陽台及平台)\n",
      "格局方正 空間好規劃\n",
      "邊間 採光沒話說 每間房都有窗\n",
      "三房 二廳 二衛, 大工作陽台, 有天然瓦斯 .......大三房\n",
      "捷運蘆洲線行天宮站3號出口100公尺...........捷運旁\n",
      "周圍公車線達20多線........................................公車站旁\n",
      "榮星花園500公尺.............................................公園旁\n",
      "聯邦育樂大樓旁後勢潛力無窮..........................重大建設旁\n",
      "過松江對面是松江傳統市場, 松錦公園.............傳統市場旁\n",
      "開車四分鐘上中山高速公路..............................高速公路旁\n",
      "土地持分大 土地近10.55坪 ..............................未來都更機會大\n",
      "公告現值高 現值接近1050萬............................重購退稅.房地合一.皆有利\n",
      "台北市中山區長安東路二段\n",
      "樓層 7 ~ 7 / 12\n",
      "屋齡 32.5 年\n",
      "大樓/第參種商業區\n",
      "朝向北\n",
      "鋼筋混凝土(RC)\n",
      "台北市中山區建國北路三段\n",
      "樓層 2 ~ 2 / 5\n",
      "屋齡 35 年\n",
      "住宅\n",
      "公寓/第參種商業區、道路用地\n",
      "邊間\n",
      "朝向西南\n",
      "鋼筋混凝土(RC)\n",
      "台北市中山區松江路\n",
      "樓層 2 ~ 2 / 5\n",
      "屋齡 23.4 年\n",
      "住宅\n",
      "大樓/第三種住宅區\n",
      "朝向北\n",
      "鋼筋混凝土(RC)\n",
      "台北市中山區雙城街\n",
      "樓層 2 ~ 2 / 15\n",
      "屋齡 3.4 年\n",
      "住宅\n",
      "大樓/第肆種商業區\n",
      "朝向北\n",
      "鋼筋混凝土(RC)\n",
      "無障礙空間：室內~室外 輪椅自由通行室內~車位 輪椅自由通行\n",
      "固定車位\n",
      "坡道平面\n",
      "車位 500 元/月\n",
      "保全公司\n",
      "管理費 2,200 元/月\n",
      "2部電梯\n",
      "台北市中山區市民大道三段\n",
      "樓層 13 ~ 13 / 13\n",
      "屋齡 7.2 年\n",
      "住宅\n",
      "大樓/第三之一種住宅區\n",
      "朝向東\n",
      "鋼筋混凝土(RC)\n",
      "無障礙空間：室內~室外 輪椅自由通行室內~車位 輪椅自由通行\n",
      "固定車位\n",
      "坡道平面\n",
      "車位 500 元/月\n",
      "保全公司\n",
      "管理費 1,894 元/月\n",
      "2部電梯\n",
      "台北市中山區松江路\n",
      "樓層 6 ~ 6 / 7\n",
      "屋齡 34 年\n",
      "住宅\n",
      "大樓\n",
      "朝向南\n",
      "鋼筋混凝土(RC)\n",
      "管理費 600 元/月\n",
      "台北市中山區撫順街\n",
      "樓層 7 ~ 7 / 8\n",
      "屋齡 38 年\n",
      "住宅\n",
      "大樓\n",
      "鋼筋混凝土(RC)\n",
      "管理員(警衛)\n",
      "管理費 650 元/月\n",
      "台北市信義區松勤街\n",
      "樓層 7 ~ 7 / 19\n",
      "屋齡 7.7 年\n",
      "住宅\n",
      "大樓/特定業務區\n",
      "邊間\n",
      "朝向東\n",
      "鋼骨(SC)或鋼骨混凝土\n",
      "無障礙空間：室內~室外 輪椅自由通行室內~車位 輪椅自由通行電梯有語音或點字設備備有殘障機車位內外鋪設導盲磚\n",
      "固定車位\n",
      "坡道平面\n",
      "車位 1,000 元/月\n",
      "保全公司\n",
      "管理費 5,400 元/月\n",
      "3部以上電梯\n"
     ]
    }
   ],
   "source": [
    "import time\n",
    "housefun = open('housefun.txt','r')\n",
    "for line in housefun.readlines():\n",
    "    pagelink = line.strip()\n",
    "    requests_detail = requests.get(pagelink,headers=headers)\n",
    "    soup = bs(requests_detail.text)\n",
    "    li = soup.findAll('li')\n",
    "    for row in li:\n",
    "        span = row.find('span')\n",
    "        if span is not None:\n",
    "            if len(span)>0:\n",
    "                print row.select('span')[0].text\n",
    "    time.sleep(3)\n",
    "housefun.close()"
   ]
  },
  {
   "cell_type": "code",
   "execution_count": null,
   "metadata": {
    "collapsed": true
   },
   "outputs": [],
   "source": []
  }
 ],
 "metadata": {
  "kernelspec": {
   "display_name": "Python 2",
   "language": "python",
   "name": "python2"
  },
  "language_info": {
   "codemirror_mode": {
    "name": "ipython",
    "version": 2
   },
   "file_extension": ".py",
   "mimetype": "text/x-python",
   "name": "python",
   "nbconvert_exporter": "python",
   "pygments_lexer": "ipython2",
   "version": "2.7.10"
  }
 },
 "nbformat": 4,
 "nbformat_minor": 0
}
