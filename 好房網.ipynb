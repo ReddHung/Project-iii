{
 "cells": [
  {
   "cell_type": "code",
   "execution_count": 70,
   "metadata": {
    "collapsed": false
   },
   "outputs": [],
   "source": [
    "import requests\n",
    "from bs4 import BeautifulSoup as bs\n",
    "import string\n",
    "from math import ceil\n",
    "headers = {'cookie':'TRID_G=8711a259-e871-4895-bfc8-ef664f999722; SEID_G=bf7c90c9-369e-4672-9cb5-8c62da63d998; ASP.NET_SessionId=pos1kcp2zp0elm1vbhb34ujn; _ga=GA1.3.988170899.1438438756; WMX_Channel=,3,; __ltmwga=utmcsr=(direct)|utmcmd=(none); _gat_UA-22823074-5=1; CSCWORM_UNID=1440421905627627; _dc_gtm_UA-22823074-5=1; _dc_gtm_UA-34471860-1=1; _gat_UA-34471860-1=1; objID=; sto-id-%3Fv30%3FGroup-buy.housefun.com.tw%3A80=EFABBOKM; _ga=GA1.4.988170899.1438438756; __asc=5fa575a314f5fd6171a385af309; __auc=3ce783c214ee9a18edcba1d0ab5'}\n",
    "count = requests.get('http://buy.housefun.com.tw/ashx/buy/new/GetBuyListTabCaseCount.ashx?callback=angular.callbacks._c&RequestPackage=%7B%22Method%22:%22INQUIRE%22,%22Data%22:%7B%22SID%22:%2281106424%22%7D%7D',headers=headers)\n",
    "soup = bs(count.text)\n",
    "cases = ''.join(soup.text.split('\\\"')[25].split(','))\n",
    "page = int(ceil(float(cases)/10))\n",
    "\n",
    "f = open('housefun.txt','w')\n",
    "page_html = \"http://buy.housefun.com.tw/%E8%B2%B7%E5%B1%8B/%E5%8F%B0%E5%8C%97%E5%B8%82?hd_CityID=0000&hd_Purpose=K&hd_Sequence=SEQUP&hd_SearchGroup=Group01&hd_PM={0}&hd_Tab=1&hd_SID=81106424\"\n",
    "for pg in range(1,page+1):\n",
    "    res = requests.get(page_html.format(pg),headers=headers)\n",
    "    soup = bs(res.text)\n",
    "    for ele in soup.select('.m-list-obj'):\n",
    "        f.write(\"http://buy.housefun.com.tw\" + ele.select('a')[0]['href'] + '\\n')\n",
    "f.close()"
   ]
  },
  {
   "cell_type": "code",
   "execution_count": 71,
   "metadata": {
    "collapsed": false
   },
   "outputs": [
    {
     "name": "stdout",
     "output_type": "stream",
     "text": [
      "8250\n"
     ]
    }
   ],
   "source": [
    "line_num = 0\n",
    "f = open(\"housefun.txt\",\"r\")\n",
    "for line in f.readlines():\n",
    "    line_num = line_num + 1\n",
    "print line_num\n",
    "f.close()"
   ]
  },
  {
   "cell_type": "code",
   "execution_count": 141,
   "metadata": {
    "collapsed": false
   },
   "outputs": [
    {
     "name": "stdout",
     "output_type": "stream",
     "text": [
      "台北市中山區四平街\n",
      "樓層 2 ~ 2 / 14\n",
      "屋齡 32.2 年\n",
      "住宅\n",
      "大樓/第三之二種住宅區及第三種住宅區\n",
      "朝向北\n",
      "鋼筋混凝土(RC)\n"
     ]
    }
   ],
   "source": [
    "resd = requests.get('http://buy.housefun.com.tw/buy/house/1605336',headers=headers)\n",
    "soup = bs(resd.text)\n",
    "li = soup.findAll('li')\n",
    "for row in li:\n",
    "    span = row.find('span')\n",
    "    if span is not None:\n",
    "        if len(span)>0:\n",
    "            print ''.join(row.select('span')[0].text)"
   ]
  },
  {
   "cell_type": "code",
   "execution_count": 170,
   "metadata": {
    "collapsed": false
   },
   "outputs": [
    {
     "ename": "UnicodeEncodeError",
     "evalue": "'ascii' codec can't encode characters in position 0-8: ordinal not in range(128)",
     "output_type": "error",
     "traceback": [
      "\u001b[0;31m---------------------------------------------------------------------------\u001b[0m",
      "\u001b[0;31mUnicodeEncodeError\u001b[0m                        Traceback (most recent call last)",
      "\u001b[0;32m<ipython-input-170-767d22e49c3f>\u001b[0m in \u001b[0;36m<module>\u001b[0;34m()\u001b[0m\n\u001b[1;32m     16\u001b[0m         \u001b[0;32mif\u001b[0m \u001b[0mspan\u001b[0m \u001b[0;32mis\u001b[0m \u001b[0;32mnot\u001b[0m \u001b[0mNone\u001b[0m\u001b[0;34m:\u001b[0m\u001b[0;34m\u001b[0m\u001b[0m\n\u001b[1;32m     17\u001b[0m             \u001b[0;32mif\u001b[0m \u001b[0mlen\u001b[0m\u001b[0;34m(\u001b[0m\u001b[0mspan\u001b[0m\u001b[0;34m)\u001b[0m\u001b[0;34m>\u001b[0m\u001b[0;36m0\u001b[0m\u001b[0;34m:\u001b[0m\u001b[0;34m\u001b[0m\u001b[0m\n\u001b[0;32m---> 18\u001b[0;31m                 \u001b[0mhousefun_detail\u001b[0m\u001b[0;34m.\u001b[0m\u001b[0mwrite\u001b[0m\u001b[0;34m(\u001b[0m\u001b[0mrow\u001b[0m\u001b[0;34m.\u001b[0m\u001b[0mselect\u001b[0m\u001b[0;34m(\u001b[0m\u001b[0;34m'span'\u001b[0m\u001b[0;34m)\u001b[0m\u001b[0;34m[\u001b[0m\u001b[0;36m0\u001b[0m\u001b[0;34m]\u001b[0m\u001b[0;34m.\u001b[0m\u001b[0mtext\u001b[0m\u001b[0;34m)\u001b[0m\u001b[0;34m\u001b[0m\u001b[0m\n\u001b[0m\u001b[1;32m     19\u001b[0m     \u001b[0mhousefun_detail\u001b[0m\u001b[0;34m.\u001b[0m\u001b[0mclose\u001b[0m\u001b[0;34m(\u001b[0m\u001b[0;34m)\u001b[0m\u001b[0;34m\u001b[0m\u001b[0m\n\u001b[1;32m     20\u001b[0m     \u001b[0mtime\u001b[0m\u001b[0;34m.\u001b[0m\u001b[0msleep\u001b[0m\u001b[0;34m(\u001b[0m\u001b[0;36m3\u001b[0m\u001b[0;34m)\u001b[0m\u001b[0;34m\u001b[0m\u001b[0m\n",
      "\u001b[0;31mUnicodeEncodeError\u001b[0m: 'ascii' codec can't encode characters in position 0-8: ordinal not in range(128)"
     ]
    }
   ],
   "source": [
    "#from tkinter import *\n",
    "#import traceback\n",
    "#from tkinter.scrolledtext import ScrolledText\n",
    "\n",
    "#CODEC = 'utf8'\n",
    "\n",
    "housefun = open('housefun.txt','r')\n",
    "for line in housefun.readlines():\n",
    "    pagelink = line.strip()\n",
    "    requests_detail = requests.get(pagelink,headers=headers)\n",
    "    soup = bs(requests_detail.text)\n",
    "    housefun_detail = open('housefun_detail.txt','w')\n",
    "    li = soup.findAll('li')\n",
    "    for row in li:\n",
    "        span = row.find('span')\n",
    "        if span is not None:\n",
    "            if len(span)>0:\n",
    "                housefun_detail.write(row.select('span')[0].text.encode('utf8'))\n",
    "    housefun_detail.close()\n",
    "    time.sleep(3)\n",
    "housefun.close()"
   ]
  },
  {
   "cell_type": "code",
   "execution_count": 185,
   "metadata": {
    "collapsed": false
   },
   "outputs": [],
   "source": [
    "import time\n",
    "housefun = open('housefun.txt','r')\n",
    "housefun_detail = open('housefun_detail_1.txt','w')\n",
    "for line in housefun.readlines():\n",
    "    pagelink = line.strip()\n",
    "    requests_detail = requests.get(pagelink,headers=headers)\n",
    "    soup = bs(requests_detail.text)\n",
    "    li = soup.findAll('li')\n",
    "    for row in li:\n",
    "        span = row.find('span')\n",
    "        if span is not None:\n",
    "            if len(span)>0:\n",
    "                #print row.select('span')[0].text.encode('utf8')\n",
    "                housefun_detail.write(row.select('span')[0].text.encode('utf8'))\n",
    "    housefun_detail.write('\\n')\n",
    "    time.sleep(2)\n",
    "housefun_detail.close()\n",
    "housefun.close()"
   ]
  },
  {
   "cell_type": "code",
   "execution_count": null,
   "metadata": {
    "collapsed": true
   },
   "outputs": [],
   "source": []
  }
 ],
 "metadata": {
  "kernelspec": {
   "display_name": "Python 2",
   "language": "python",
   "name": "python2"
  },
  "language_info": {
   "codemirror_mode": {
    "name": "ipython",
    "version": 2
   },
   "file_extension": ".py",
   "mimetype": "text/x-python",
   "name": "python",
   "nbconvert_exporter": "python",
   "pygments_lexer": "ipython2",
   "version": "2.7.10"
  }
 },
 "nbformat": 4,
 "nbformat_minor": 0
}
